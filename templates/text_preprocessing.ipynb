{
 "cells": [
  {
   "cell_type": "markdown",
   "id": "c41b21ea",
   "metadata": {},
   "source": [
    "# TEXT DATA PREPROCESSING"
   ]
  },
  {
   "cell_type": "markdown",
   "id": "094da7b3",
   "metadata": {},
   "source": [
    "## 1. Imports and settings\n",
    "\n",
    "Import required libraries and configure display options.\n"
   ]
  },
  {
   "cell_type": "code",
   "execution_count": null,
   "id": "8a0f2eb7",
   "metadata": {},
   "outputs": [],
   "source": [
    "# Imports\n",
    "import pandas as pd\n",
    "import matplotlib.pyplot as plt\n",
    "\n",
    "# Display settings\n",
    "pd.set_option('display.max_columns', 200)\n",
    "%matplotlib inline"
   ]
  },
  {
   "cell_type": "markdown",
   "id": "86d8a373",
   "metadata": {},
   "source": [
    "## 2. Load dataset\n",
    "\n",
    "Load a CSV file into a DataFrame. Change DATA_PATH to your file path.\n"
   ]
  },
  {
   "cell_type": "code",
   "execution_count": null,
   "id": "e8880a0c",
   "metadata": {},
   "outputs": [],
   "source": [
    "df = pd.read_csv(\"text_data.csv\")"
   ]
  },
  {
   "cell_type": "markdown",
   "id": "c54524f6",
   "metadata": {},
   "source": [
    "## 3. Initial inspection"
   ]
  },
  {
   "cell_type": "code",
   "execution_count": null,
   "id": "dc8bea99",
   "metadata": {},
   "outputs": [],
   "source": [
    "df.head()"
   ]
  },
  {
   "cell_type": "code",
   "execution_count": null,
   "id": "6614514e",
   "metadata": {},
   "outputs": [],
   "source": [
    "df.info()"
   ]
  },
  {
   "cell_type": "code",
   "execution_count": null,
   "id": "7e5166a0",
   "metadata": {},
   "outputs": [],
   "source": [
    "df.isna().sum()"
   ]
  },
  {
   "cell_type": "code",
   "execution_count": null,
   "id": "ccae9d90",
   "metadata": {},
   "outputs": [],
   "source": [
    "df.duplicated().sum()"
   ]
  },
  {
   "cell_type": "markdown",
   "id": "22fd82fc",
   "metadata": {},
   "source": [
    "## 4. Clean text\n",
    "Lowercase, Remove URLs, HTML tags, mentions , Remove punctuation and optionally numbers, Normalize whitespace"
   ]
  },
  {
   "cell_type": "code",
   "execution_count": null,
   "id": "5df37f89",
   "metadata": {},
   "outputs": [],
   "source": [
    "import re\n",
    "import string\n",
    "\n",
    "def clean_text_basic(text, remove_punct=True, remove_numbers=True):\n",
    "    text = str(text).lower()\n",
    "    text = re.sub(r'http\\S+', '', text)\n",
    "    text = re.sub(r'www\\S+', '', text)\n",
    "    text = re.sub(r'@\\w+', '', text)  # mentions\n",
    "    text = re.sub(r'<.*?>', '', text)  # html\n",
    "    if remove_numbers:\n",
    "        text = re.sub(r'\\d+', '', text)\n",
    "    if remove_punct:\n",
    "        text = text.translate(str.maketrans('', '', string.punctuation))\n",
    "    text = re.sub(r'\\s+', ' ', text).strip()\n",
    "    return text\n"
   ]
  },
  {
   "cell_type": "code",
   "execution_count": null,
   "id": "b6bbedb3",
   "metadata": {},
   "outputs": [],
   "source": [
    "texts_cleaned = df['text'].apply(clean_text_basic)"
   ]
  },
  {
   "cell_type": "markdown",
   "id": "cd6acba2",
   "metadata": {},
   "source": [
    "## 5. Tokenization and Stopword Removal\n",
    "Splits text into tokens and removes common stopwords to focus on informative words."
   ]
  },
  {
   "cell_type": "code",
   "execution_count": null,
   "id": "897f8acc",
   "metadata": {},
   "outputs": [],
   "source": [
    "# %pip install nltk"
   ]
  },
  {
   "cell_type": "code",
   "execution_count": null,
   "id": "53445dd4",
   "metadata": {},
   "outputs": [],
   "source": [
    "import nltk\n",
    "from nltk.corpus import stopwords\n",
    "from nltk.stem import WordNetLemmatizer\n",
    "\n",
    "nltk.download('stopwords')\n",
    "nltk.download('punkt')\n",
    "stop_words = set(stopwords.words('english'))"
   ]
  },
  {
   "cell_type": "code",
   "execution_count": null,
   "id": "575a0e1a",
   "metadata": {},
   "outputs": [],
   "source": [
    "def tokenize_and_remove_stopwords(text):\n",
    "    tokens = nltk.word_tokenize(text)\n",
    "    tokens = [word for word in tokens if word not in stop_words]\n",
    "    return tokens"
   ]
  },
  {
   "cell_type": "code",
   "execution_count": null,
   "id": "d89c2d30",
   "metadata": {},
   "outputs": [],
   "source": [
    "texts_tokenized = df['clean_text'].apply(tokenize_and_remove_stopwords)"
   ]
  },
  {
   "cell_type": "markdown",
   "id": "45babaa6",
   "metadata": {},
   "source": [
    "## 6. Lemmatization / Stemming\n",
    "Reduces words to their root form to improve generalization and reduce redundancy.\n"
   ]
  },
  {
   "cell_type": "code",
   "execution_count": null,
   "id": "b21dcd39",
   "metadata": {},
   "outputs": [],
   "source": [
    "nltk.download('wordnet')\n",
    "lemmatizer = WordNetLemmatizer()\n",
    "\n",
    "def lemmatize_tokens(tokens):\n",
    "    return [lemmatizer.lemmatize(token) for token in tokens]"
   ]
  },
  {
   "cell_type": "code",
   "execution_count": null,
   "id": "e6e44901",
   "metadata": {},
   "outputs": [],
   "source": [
    "texts_lemmatized = texts_tokenized.apply(lemmatize_tokens)\n",
    "texts_prepared = texts_lemmatized.apply(lambda x: \" \".join(x))"
   ]
  },
  {
   "cell_type": "markdown",
   "id": "f3f3dc12",
   "metadata": {},
   "source": [
    "## 6. Exploratory Data Analysis (EDA)"
   ]
  },
  {
   "cell_type": "markdown",
   "id": "1d1840f2",
   "metadata": {},
   "source": [
    "### 6.1 Text Length distribution"
   ]
  },
  {
   "cell_type": "code",
   "execution_count": null,
   "id": "58e8a4f5",
   "metadata": {},
   "outputs": [],
   "source": [
    "df['text_length'] = df['clean_text'].apply(lambda x: len(x.split()))\n",
    "plt.hist(df['text_length'], bins=50)\n",
    "plt.title('Text Length Distribution')\n",
    "plt.show()"
   ]
  },
  {
   "cell_type": "markdown",
   "id": "06bfcbf9",
   "metadata": {},
   "source": [
    "### 6.2 WordCloud visualization"
   ]
  },
  {
   "cell_type": "code",
   "execution_count": null,
   "id": "a1181a89",
   "metadata": {},
   "outputs": [],
   "source": [
    "# %pip install wordcloud"
   ]
  },
  {
   "cell_type": "code",
   "execution_count": null,
   "id": "d3c26f8d",
   "metadata": {},
   "outputs": [],
   "source": [
    "from wordcloud import WordCloud\n",
    "\n",
    "all_text = \" \".join(df['clean_text'])\n",
    "wordcloud = WordCloud(width=800, height=400, background_color='white').generate(all_text)\n",
    "plt.figure(figsize=(15,7))\n",
    "plt.imshow(wordcloud, interpolation='bilinear')\n",
    "plt.axis('off')\n",
    "plt.show()"
   ]
  },
  {
   "cell_type": "markdown",
   "id": "9f1d835c",
   "metadata": {},
   "source": [
    "## 7. Classical Vectorization\n",
    "Convert text into numerical vectors using Bag-of-Words or TF-IDF."
   ]
  },
  {
   "cell_type": "markdown",
   "id": "9d3d36fd",
   "metadata": {},
   "source": [
    "### 7.1 Bag-of-Words (CountVectorizer)"
   ]
  },
  {
   "cell_type": "code",
   "execution_count": null,
   "id": "c718b75d",
   "metadata": {},
   "outputs": [],
   "source": [
    "from sklearn.feature_extraction.text import CountVectorizer, TfidfVectorizer\n",
    "\n",
    "def get_bow(df, max_features=5000):\n",
    "    vec = CountVectorizer(max_features=max_features)\n",
    "    X = vec.fit_transform(df['clean_text'].astype(str))\n",
    "    return X"
   ]
  },
  {
   "cell_type": "code",
   "execution_count": null,
   "id": "a910781e",
   "metadata": {},
   "outputs": [],
   "source": [
    "X_bow = get_bow(df, max_features=4000)"
   ]
  },
  {
   "cell_type": "markdown",
   "id": "bf2691e5",
   "metadata": {},
   "source": [
    "### 7.2 TF-IDF (TfidfVectorizer)"
   ]
  },
  {
   "cell_type": "code",
   "execution_count": null,
   "id": "02ef7ca5",
   "metadata": {},
   "outputs": [],
   "source": [
    "def get_tfidf(df, max_features=5000, ngram_range=(1,1)):\n",
    "    vec = TfidfVectorizer(max_features=max_features, ngram_range=ngram_range)\n",
    "    X = vec.fit_transform(df['clean_text'].astype(str))\n",
    "    return X"
   ]
  },
  {
   "cell_type": "code",
   "execution_count": null,
   "id": "e47d9b03",
   "metadata": {},
   "outputs": [],
   "source": [
    "X_tfidf = get_tfidf(df, max_features=4000)"
   ]
  },
  {
   "cell_type": "markdown",
   "id": "eaa3b126",
   "metadata": {},
   "source": [
    "# Text Embedding Methods — Short Description and Usage\n",
    "\n",
    "Required imports for all methods:\n",
    "\n",
    "```python\n",
    "import pandas as pd\n",
    "import numpy as np\n",
    "from sklearn.feature_extraction.text import TfidfVectorizer\n",
    "from sklearn.decomposition import PCA\n",
    "from gensim.models import Word2Vec\n",
    "from transformers import AutoTokenizer, AutoModel\n",
    "import torch\n",
    "import nltk\n",
    "from nltk.tokenize import word_tokenize\n",
    "nltk.download('punkt', quiet=True)\n",
    "```\n",
    "\n",
    "## TF-IDF Embedding\n",
    "Description: Generates TF-IDF features for text data, capturing term importance; applies PCA to reduce dimensionality. Best for sparse, high-dimensional text data.  \n",
    "Usage:\n",
    "```python\n",
    "def tfidf_embedding(df, column_name, max_features=50, n_components=10, prefix=None):\n",
    "    \"\"\"Generate TF-IDF embeddings for a text column with PCA reduction.\"\"\"\n",
    "    if prefix is None:\n",
    "        prefix = column_name\n",
    "    df = df.copy()\n",
    "    df[column_name] = df[column_name].fillna('Missing')\n",
    "    tfidf = TfidfVectorizer(max_features=max_features)\n",
    "    tfidf_matrix = tfidf.fit_transform(df[column_name]).toarray()\n",
    "    pca = PCA(n_components=n_components)\n",
    "    reduced_matrix = pca.fit_transform(tfidf_matrix)\n",
    "    tfidf_cols = [f'{prefix}_tfidf_{i}' for i in range(n_components)]\n",
    "    df_tfidf = pd.DataFrame(reduced_matrix, columns=tfidf_cols)\n",
    "    df = pd.concat([df, df_tfidf], axis=1)\n",
    "    return df, tfidf, pca\n",
    "\n",
    "# Example\n",
    "df, tfidf_model, pca_model = tfidf_embedding(df, 'text_column', max_features=50, n_components=10)\n",
    "```\n",
    "\n",
    "## Word2Vec Embedding\n",
    "Description: Creates word embeddings using Word2Vec, averaging word vectors per text; applies PCA for dimensionality reduction. Suitable for capturing semantic relationships.  \n",
    "Usage:\n",
    "```python\n",
    "def word2vec_embedding(df, column_name, vector_size=50, n_components=10, prefix=None):\n",
    "    \"\"\"Generate Word2Vec embeddings for a text column with PCA reduction.\"\"\"\n",
    "    if prefix is None:\n",
    "        prefix = column_name\n",
    "    df = df.copy()\n",
    "    df[column_name] = df[column_name].fillna('Missing')\n",
    "    tokenized = df[column_name].apply(lambda x: word_tokenize(str(x).lower())).tolist()\n",
    "    w2v_model = Word2Vec(sentences=tokenized, vector_size=vector_size, window=5, min_count=1, workers=4)\n",
    "    def get_w2v_vector(text):\n",
    "        tokens = word_tokenize(str(text).lower())\n",
    "        vectors = [w2v_model.wv[token] for token in tokens if token in w2v_model.wv]\n",
    "        return np.mean(vectors, axis=0) if vectors else np.zeros(vector_size)\n",
    "    w2v_matrix = np.array([get_w2v_vector(text) for text in df[column_name]])\n",
    "    pca = PCA(n_components=n_components)\n",
    "    reduced_matrix = pca.fit_transform(w2v_matrix)\n",
    "    w2v_cols = [f'{prefix}_w2v_{i}' for i in range(n_components)]\n",
    "    df_w2v = pd.DataFrame(reduced_matrix, columns=w2v_cols)\n",
    "    df = pd.concat([df, df_w2v], axis=1)\n",
    "    return df, w2v_model, pca\n",
    "\n",
    "# Example\n",
    "df, w2v_model, pca_model = word2vec_embedding(df, 'text_column', vector_size=50, n_components=10)\n",
    "```\n",
    "\n",
    "## BERT Embedding\n",
    "Description: Generates contextual embeddings using BERT (CLS token); applies PCA to reduce dimensionality. Ideal for tasks requiring deep semantic understanding.  \n",
    "Usage:\n",
    "```python\n",
    "def bert_embedding(df, column_name, max_length=128, n_components=20, prefix=None):\n",
    "    \"\"\"Generate BERT embeddings for a text column with PCA reduction.\"\"\"\n",
    "    if prefix is None:\n",
    "        prefix = column_name\n",
    "    df = df.copy()\n",
    "    df[column_name] = df[column_name].fillna('Missing')\n",
    "    tokenizer = AutoTokenizer.from_pretrained('bert-base-uncased')\n",
    "    bert_model = AutoModel.from_pretrained('bert-base-uncased')\n",
    "    def get_bert_vector(texts):\n",
    "        embeddings = []\n",
    "        for text in texts:\n",
    "            inputs = tokenizer(text, return_tensors='pt', max_length=max_length, truncation=True, padding=True)\n",
    "            with torch.no_grad():\n",
    "                outputs = bert_model(**inputs)\n",
    "            embeddings.append(outputs.last_hidden_state[:, 0, :].numpy())  # CLS token\n",
    "        return np.vstack(embeddings)\n",
    "    bert_matrix = get_bert_vector(df[column_name].values)\n",
    "    pca = PCA(n_components=n_components)\n",
    "    reduced_matrix = pca.fit_transform(bert_matrix)\n",
    "    bert_cols = [f'{prefix}_bert_{i}' for i in range(n_components)]\n",
    "    df_bert = pd.DataFrame(reduced_matrix, columns=bert_cols)\n",
    "    df = pd.concat([df, df_bert], axis=1)\n",
    "    return df, tokenizer, bert_model, pca\n",
    "\n",
    "# Example\n",
    "df, tokenizer, bert_model, pca_model = bert_embedding(df, 'text_column', max_length=128, n_components=20)\n",
    "```"
   ]
  },
  {
   "cell_type": "markdown",
   "id": "332f53cd",
   "metadata": {},
   "source": [
    "### 7.3 Tokenization + Padding (for deep learning)"
   ]
  },
  {
   "cell_type": "code",
   "execution_count": null,
   "id": "4fc6cb06",
   "metadata": {},
   "outputs": [],
   "source": [
    "from tensorflow.keras.preprocessing.text import Tokenizer\n",
    "from tensorflow.keras.preprocessing.sequence import pad_sequences\n",
    "\n",
    "def get_tokenized_padded(df, num_words=20000, maxlen=200, oov_token='<OOV>'):\n",
    "    tokenizer = Tokenizer(num_words=num_words, oov_token=oov_token)\n",
    "    tokenizer.fit_on_texts(df['clean_text'].astype(str))\n",
    "    sequences = tokenizer.texts_to_sequences(df['clean_text'].astype(str))\n",
    "    padded = pad_sequences(sequences, maxlen=maxlen, padding='post', truncating='post')\n",
    "    return padded"
   ]
  },
  {
   "cell_type": "code",
   "execution_count": null,
   "id": "c1d81fd6",
   "metadata": {},
   "outputs": [],
   "source": [
    "X_padded = get_tokenized_padded(df, num_words=10000, maxlen=150)"
   ]
  },
  {
   "cell_type": "markdown",
   "id": "528dfc4c",
   "metadata": {},
   "source": [
    "## 8. Feature Selection\n",
    "Select top features that are most correlated with the target variable."
   ]
  },
  {
   "cell_type": "code",
   "execution_count": null,
   "id": "01f04e99",
   "metadata": {},
   "outputs": [],
   "source": [
    "from sklearn.feature_selection import SelectKBest, chi2, f_classif\n",
    "\n",
    "def select_features_statistical(X, y, method, k):\n",
    "    selector = SelectKBest(score_func=method, k=k)\n",
    "    selector.fit_transform(X, y)\n",
    "\n",
    "    selected_features = X.columns[selector.get_support()]\n",
    "    print(f\"Selected Top {k} Features:\")\n",
    "    print(selected_features)\n",
    "    return selected_features"
   ]
  },
  {
   "cell_type": "code",
   "execution_count": null,
   "id": "3832858a",
   "metadata": {},
   "outputs": [],
   "source": [
    "X_tfidf_selected = select_features_statistical(X_tfidf, df['label'], method=chi2, k=10)"
   ]
  },
  {
   "cell_type": "markdown",
   "id": "cb767a75",
   "metadata": {},
   "source": [
    "## 9. Modern Embeddings (Transformer-based)\n",
    "Generates contextual embeddings using pretrained transformer models like BERT."
   ]
  },
  {
   "cell_type": "code",
   "execution_count": null,
   "id": "bde0fdbd",
   "metadata": {},
   "outputs": [],
   "source": [
    "# %pip install sentence-transformers"
   ]
  },
  {
   "cell_type": "code",
   "execution_count": null,
   "id": "a6a56f6e",
   "metadata": {},
   "outputs": [],
   "source": [
    "from sentence_transformers import SentenceTransformer\n",
    "\n",
    "model = SentenceTransformer('all-MiniLM-L6-v2')\n",
    "X_bert = model.encode(texts_prepared, show_progress_bar=True)\n"
   ]
  },
  {
   "cell_type": "code",
   "execution_count": null,
   "id": "c3ac6bb1",
   "metadata": {},
   "outputs": [],
   "source": [
    "## Example:\n",
    "# glove_matrix = build_embedding_matrix('glove.6B.100d.txt', tokenizer, embedding_dim=100)"
   ]
  },
  {
   "cell_type": "markdown",
   "id": "36ff2619",
   "metadata": {},
   "source": [
    "## 10. Split Dataset"
   ]
  },
  {
   "cell_type": "code",
   "execution_count": null,
   "id": "4cffcc5b",
   "metadata": {},
   "outputs": [],
   "source": [
    "X = X_tfidf_selected # or X_padded/X_tfidf/X_bow/X_bert\n",
    "y = df['label']"
   ]
  },
  {
   "cell_type": "code",
   "execution_count": null,
   "id": "7175d609",
   "metadata": {},
   "outputs": [],
   "source": [
    "from sklearn.model_selection import  train_test_split\n",
    "\n",
    "X_train, X_temp, y_train, y_temp = train_test_split(X, y, test_size=0.2, random_state=42, stratify=y)\n",
    "X_val, X_test, y_val, y_test = train_test_split(X_temp, y_temp, test_size=0.2, random_state=42, stratify=y_temp)"
   ]
  },
  {
   "cell_type": "code",
   "execution_count": null,
   "id": "e158120b",
   "metadata": {},
   "outputs": [],
   "source": [
    "print(\"X Train set size:\", X_train.shape)\n",
    "print(\"X Validation set size:\", X_val.shape)\n",
    "print(\"X Test set size:\", X_test.shape)\n",
    "\n",
    "print(\"y Train set size:\", y_train.shape)\n",
    "print(\"y Validation set size:\", y_val.shape)\n",
    "print(\"y Test set size:\", y_test.shape)\n"
   ]
  },
  {
   "cell_type": "markdown",
   "id": "ad18f925",
   "metadata": {},
   "source": [
    "## 11. Model Training (Classical + Modern)\n",
    "Compare classical TF-IDF + Logistic Regression with BERT embeddings + Logistic Regression."
   ]
  },
  {
   "cell_type": "code",
   "execution_count": null,
   "id": "78814a78",
   "metadata": {},
   "outputs": [],
   "source": [
    "from sklearn.linear_model import LogisticRegression\n",
    "from sklearn.metrics import classification_report"
   ]
  },
  {
   "cell_type": "code",
   "execution_count": null,
   "id": "485220e6",
   "metadata": {},
   "outputs": [],
   "source": [
    "X_train, X_test, y_train, y_test = train_test_split(X_tfidf_selected, labels, test_size=0.2, random_state=42)\n",
    "clf_tfidf = LogisticRegression(max_iter=1000)\n",
    "clf_tfidf.fit(X_train, y_train)\n",
    "y_pred_tfidf = clf_tfidf.predict(X_test)\n",
    "print(\"TF-IDF Results:\\n\", classification_report(y_test, y_pred_tfidf))\n"
   ]
  },
  {
   "cell_type": "code",
   "execution_count": null,
   "id": "ce1cf03d",
   "metadata": {},
   "outputs": [],
   "source": [
    "X_train_b, X_test_b, y_train_b, y_test_b = train_test_split(X_bert, labels, test_size=0.2, random_state=42)\n",
    "clf_bert = LogisticRegression(max_iter=1000)\n",
    "clf_bert.fit(X_train_b, y_train_b)\n",
    "y_pred_bert = clf_bert.predict(X_test_b)\n",
    "print(\"BERT Embeddings Results:\\n\", classification_report(y_test_b, y_pred_bert))\n"
   ]
  }
 ],
 "metadata": {
  "kernelspec": {
   "display_name": "dp_env",
   "language": "python",
   "name": "python3"
  },
  "language_info": {
   "name": "python",
   "version": "3.12.11"
  }
 },
 "nbformat": 4,
 "nbformat_minor": 5
}
